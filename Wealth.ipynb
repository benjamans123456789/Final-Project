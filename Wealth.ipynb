{
 "cells": [
  {
   "cell_type": "markdown",
   "metadata": {},
   "source": [
    "Intro:\n",
    "Our goal is to find the best neighborhood in Pittsburgh. We will be looking at 4 different metrics to measure this.\n",
    "In this notebook, I will be looking at and analyzing the wealth of different neighborhoods in the area.\n",
    "We thought this was important because uaually, the areas with more money look nicer and have nicer facilities."
   ]
  },
  {
   "cell_type": "markdown",
   "metadata": {},
   "source": [
    "Metric: I will be using a data set from the WPRDC to get the average wealth in different neighborhoods. These files include the total income of everyone in the neighborhood in a year, as well as the number of people in the neighborhood."
   ]
  },
  {
   "cell_type": "markdown",
   "metadata": {},
   "source": [
    "To start, I will read in the columns of the data sheets I need. These are the total income and the population of each neighborhood."
   ]
  },
  {
   "cell_type": "code",
   "execution_count": 2,
   "metadata": {},
   "outputs": [],
   "source": [
    "import pandas as pd\n",
    "%matplotlib inline\n",
    "\n",
    "income = pd.read_csv(\"income.csv\")\n",
    "totalIncome = pd.read_csv(\"totalincome.csv\")\n",
    "\n",
    "areas = list(income['Neighborhood'])\n",
    "totalInc = list(totalIncome['Estimate; Aggregate household income in the past 12 months (in 2015 Inflation-adjusted dollars)'])\n",
    "numPeople = list(income['Estimate; Total:'])"
   ]
  },
  {
   "cell_type": "markdown",
   "metadata": {},
   "source": [
    "Now I will calculate and display a histogram of the average household income in each neighborhood. This will aloow me to get a good judgement on the spread of wealth in different areas."
   ]
  },
  {
   "cell_type": "code",
   "execution_count": 3,
   "metadata": {},
   "outputs": [
    {
     "data": {
      "text/plain": [
       "array([[<matplotlib.axes._subplots.AxesSubplot object at 0x7f8acd580a90>]],\n",
       "      dtype=object)"
      ]
     },
     "execution_count": 3,
     "metadata": {},
     "output_type": "execute_result"
    },
    {
     "data": {
      "image/png": "[encoded data removed]",
      "text/plain": [
       "<Figure size 432x288 with 1 Axes>"
      ]
     },
     "metadata": {
      "needs_background": "light"
     },
     "output_type": "display_data"
    }
   ],
   "source": [
    "avgInc = []\n",
    "avgInc.clear()\n",
    "\n",
    "for i in range(len(areas)):\n",
    "    if totalInc[i] != \"-\":\n",
    "        avgNum = float(totalInc[i])/numPeople[i]\n",
    "        avgInc.append(avgNum)\n",
    "                    \n",
    "df = pd.DataFrame({\n",
    "    'Average Income': avgInc\n",
    "})\n",
    "\n",
    "df.hist(bins=20)\n"
   ]
  },
  {
   "cell_type": "markdown",
   "metadata": {},
   "source": [
    "From this, most of the neighborhoods have an average income of less than $50,000. From this graph, I wanted to take a look at the top 20 neighborhoods by income to see what the exact incomes are."
   ]
  },
  {
   "cell_type": "code",
   "execution_count": 4,
   "metadata": {},
   "outputs": [
    {
     "name": "stdout",
     "output_type": "stream",
     "text": [
      "TOP 20 AREAS BY AVG HOUSEHOLD INCOME: (not in order) \n",
      "Ridgemont $80924.06467129877\n",
      "Allegheny West $162967.80821917808\n",
      "Glen Hazel $70208.8132635253\n",
      "Strip District $74689.08145580589\n",
      "Mt. Oliver $71405.27704485488\n",
      "Banksville $70958.2219938335\n",
      "Polish Hill $109850.21008403362\n",
      "North Oakland $80500.0\n",
      "Squirrel Hill South $65198.005836575874\n",
      "Perry South $134482.70708795902\n",
      "Hazelwood $81426.0665099093\n",
      "South Oakland $70401.20809423135\n",
      "St. Clair $176419.8076923077\n",
      "Stanton Heights $78022.24371373307\n",
      "Esplen $79225.2336448598\n",
      "Spring Garden $171355.3412462908\n",
      "Central Business District $106941.05691056911\n",
      "Spring Hill-City View $91511.06642629317\n",
      "Swisshelm Park $66944.38687392055\n",
      "Crawford-Roberts $78301.96581196581\n",
      "\n",
      "\n",
      "\n"
     ]
    }
   ],
   "source": [
    "print(\"TOP 20 AREAS BY AVG HOUSEHOLD INCOME: (not in order) \")\n",
    "\n",
    "top20 = []\n",
    "\n",
    "for num in avgInc:\n",
    "    if len(top20) < 20:\n",
    "        top20.append(num)\n",
    "    else:\n",
    "        smallIndex = 0\n",
    "        for i in range(1, len(top20)):\n",
    "            if top20[i] < top20[smallIndex]:\n",
    "                smallIndex = i\n",
    "        if num > top20[smallIndex]:\n",
    "            top20[smallIndex] = num\n",
    "            \n",
    "#print(top20)\n",
    "            \n",
    "for i in range(len(top20)):\n",
    "    for j in range(len(areas)):\n",
    "        if top20[i] == avgInc[j]:\n",
    "            print(areas[j] + \" $\" + str(top20[i]))\n",
    "            break\n",
    "    \n",
    "    \n",
    "print(\"\\n\\n\")\n",
    "\n",
    "#for i in range(len(areas)):\n",
    "   # print(areas[i] + \" \" + str(avgInc[i]))"
   ]
  },
  {
   "cell_type": "markdown",
   "metadata": {},
   "source": [
    "Conclusion: We decided overall that Squirrel Hill South is the best neighborhood with all of our metrics. However, persoanlly, my favorite neighborhood is Shadyshide. My parents own a business there and we spend a decent amount of time there. I think it's a really nice area overall, there are a lot of businesses and restaurants and overall it's a good time."
   ]
  },
  {
   "cell_type": "code",
   "execution_count": null,
   "metadata": {},
   "outputs": [],
   "source": []
  }
 ],
 "metadata": {
  "kernelspec": {
   "display_name": "Python 3",
   "language": "python",
   "name": "python3"
  },
  "language_info": {
   "codemirror_mode": {
    "name": "ipython",
    "version": 3
   },
   "file_extension": ".py",
   "mimetype": "text/x-python",
   "name": "python",
   "nbconvert_exporter": "python",
   "pygments_lexer": "ipython3",
   "version": "3.8.3"
  }
 },
 "nbformat": 4,
 "nbformat_minor": 4
}
