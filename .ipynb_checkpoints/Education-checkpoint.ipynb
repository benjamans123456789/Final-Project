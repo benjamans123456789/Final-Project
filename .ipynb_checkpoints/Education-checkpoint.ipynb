{
 "cells": [
  {
   "cell_type": "markdown",
   "metadata": {},
   "source": [
    "John Haut's Metric\n"
   ]
  },
  {
   "cell_type": "markdown",
   "metadata": {},
   "source": [
    "# Total K-12 Enrollment by Neighborhoods"
   ]
  },
  {
   "cell_type": "markdown",
   "metadata": {},
   "source": [
    "Measuring the total amount of k-12 enrollment each neighborhood has along with how many of the students enrolled in each neighborhood are considered to be gifted. This is one of the metrics that we will be using to deduce what the \"best\" neighborhood in Pittsburgh is. By calculating the number of gifted students per total enrollment, a new value containing the percentage of gifted students for each neighborhood was produced.This will be used to demonstrate the average Education level within the Neighborhood"
   ]
  },
  {
   "cell_type": "markdown",
   "metadata": {},
   "source": [
    "# Why K-12 Enrollment"
   ]
  },
  {
   "cell_type": "markdown",
   "metadata": {},
   "source": [
    "The Total K-12 Enrollment was decided upon to show the capabilities of the educational systems put in place in each neighborhood. If a neighborhood has a lower enrollment it can't be assumed that the number of gifted students in the neighborhood will be lower. Vise Versa neighborhoods with the lowest amount of gifted students cannot be assumed to represent neighborhoods with the lowest enrollment. To narrow in on the best neighborhood, A metric that measures the education quality of each neighborhood needed to be represented. This was done by caculating the gifted student percentage for each of the neighborhoods. "
   ]
  },
  {
   "cell_type": "markdown",
   "metadata": {},
   "source": [
    "# The Neighborhoods with the Highest K-12 Enrollment"
   ]
  },
  {
   "cell_type": "code",
   "execution_count": 3,
   "metadata": {},
   "outputs": [
    {
     "data": {
      "text/html": [
       "<div>\n",
       "<style scoped>\n",
       "    .dataframe tbody tr th:only-of-type {\n",
       "        vertical-align: middle;\n",
       "    }\n",
       "\n",
       "    .dataframe tbody tr th {\n",
       "        vertical-align: top;\n",
       "    }\n",
       "\n",
       "    .dataframe thead th {\n",
       "        text-align: right;\n",
       "    }\n",
       "</style>\n",
       "<table border=\"1\" class=\"dataframe\">\n",
       "  <thead>\n",
       "    <tr style=\"text-align: right;\">\n",
       "      <th></th>\n",
       "      <th>neighborhoods</th>\n",
       "      <th>gifted</th>\n",
       "      <th>total_enrollment_k_12</th>\n",
       "    </tr>\n",
       "  </thead>\n",
       "  <tbody>\n",
       "    <tr>\n",
       "      <th>8</th>\n",
       "      <td>Carrick</td>\n",
       "      <td>60</td>\n",
       "      <td>1212</td>\n",
       "    </tr>\n",
       "    <tr>\n",
       "      <th>22</th>\n",
       "      <td>Hill District</td>\n",
       "      <td>25</td>\n",
       "      <td>1136</td>\n",
       "    </tr>\n",
       "    <tr>\n",
       "      <th>7</th>\n",
       "      <td>Brookline</td>\n",
       "      <td>119</td>\n",
       "      <td>1112</td>\n",
       "    </tr>\n",
       "    <tr>\n",
       "      <th>23</th>\n",
       "      <td>Homewood North, South, West</td>\n",
       "      <td>27</td>\n",
       "      <td>1090</td>\n",
       "    </tr>\n",
       "    <tr>\n",
       "      <th>15</th>\n",
       "      <td>East Hills, Wilkinsburg Borough</td>\n",
       "      <td>26</td>\n",
       "      <td>827</td>\n",
       "    </tr>\n",
       "    <tr>\n",
       "      <th>39</th>\n",
       "      <td>Spring Hill, Summer Hill, Northview Heights</td>\n",
       "      <td>13</td>\n",
       "      <td>773</td>\n",
       "    </tr>\n",
       "    <tr>\n",
       "      <th>29</th>\n",
       "      <td>Mt. Oliver Borough, Mt. Oliver, Arlington, Arl...</td>\n",
       "      <td>20</td>\n",
       "      <td>767</td>\n",
       "    </tr>\n",
       "    <tr>\n",
       "      <th>41</th>\n",
       "      <td>Squirrel Hill South, Regent Square, Swisshelm ...</td>\n",
       "      <td>242</td>\n",
       "      <td>751</td>\n",
       "    </tr>\n",
       "    <tr>\n",
       "      <th>3</th>\n",
       "      <td>Beechview</td>\n",
       "      <td>44</td>\n",
       "      <td>750</td>\n",
       "    </tr>\n",
       "    <tr>\n",
       "      <th>16</th>\n",
       "      <td>East Liberty, Larimer</td>\n",
       "      <td>37</td>\n",
       "      <td>708</td>\n",
       "    </tr>\n",
       "  </tbody>\n",
       "</table>\n",
       "</div>"
      ],
      "text/plain": [
       "                                        neighborhoods  gifted  \\\n",
       "8                                             Carrick      60   \n",
       "22                                      Hill District      25   \n",
       "7                                           Brookline     119   \n",
       "23                        Homewood North, South, West      27   \n",
       "15                    East Hills, Wilkinsburg Borough      26   \n",
       "39        Spring Hill, Summer Hill, Northview Heights      13   \n",
       "29  Mt. Oliver Borough, Mt. Oliver, Arlington, Arl...      20   \n",
       "41  Squirrel Hill South, Regent Square, Swisshelm ...     242   \n",
       "3                                           Beechview      44   \n",
       "16                              East Liberty, Larimer      37   \n",
       "\n",
       "    total_enrollment_k_12  \n",
       "8                    1212  \n",
       "22                   1136  \n",
       "7                    1112  \n",
       "23                   1090  \n",
       "15                    827  \n",
       "39                    773  \n",
       "29                    767  \n",
       "41                    751  \n",
       "3                     750  \n",
       "16                    708  "
      ]
     },
     "execution_count": 3,
     "metadata": {},
     "output_type": "execute_result"
    }
   ],
   "source": [
    "#EDUCATION AVAILABILITY\n",
    "#Counting the Enrollment of Schools in each Neighborhood\n",
    "\n",
    "import pandas as pd \n",
    "chip = pd.read_csv(\"Schools.csv\", sep= \",\")\n",
    "\n",
    "#creates a mask of just neighborhoods, gifted students, and total enrollment \n",
    "mask = chip[['neighborhoods','gifted', 'total_enrollment_k_12']]\n",
    "\n",
    "# sorts the values from highest enrollment to lowest \n",
    "finished = mask.sort_values(by=['total_enrollment_k_12'], ascending=False)\n",
    "\n",
    "#prints the highest 10 enrollment neighborhoods \n",
    "finished.head(10)"
   ]
  },
  {
   "cell_type": "markdown",
   "metadata": {},
   "source": [
    "# The Neighborhoods with the Most Gifted K-12 students  "
   ]
  },
  {
   "cell_type": "code",
   "execution_count": 26,
   "metadata": {},
   "outputs": [
    {
     "data": {
      "text/html": [
       "<div>\n",
       "<style scoped>\n",
       "    .dataframe tbody tr th:only-of-type {\n",
       "        vertical-align: middle;\n",
       "    }\n",
       "\n",
       "    .dataframe tbody tr th {\n",
       "        vertical-align: top;\n",
       "    }\n",
       "\n",
       "    .dataframe thead th {\n",
       "        text-align: right;\n",
       "    }\n",
       "</style>\n",
       "<table border=\"1\" class=\"dataframe\">\n",
       "  <thead>\n",
       "    <tr style=\"text-align: right;\">\n",
       "      <th></th>\n",
       "      <th>neighborhoods</th>\n",
       "      <th>gifted</th>\n",
       "      <th>total_enrollment_k_12</th>\n",
       "      <th>Gifted Percentage</th>\n",
       "    </tr>\n",
       "  </thead>\n",
       "  <tbody>\n",
       "    <tr>\n",
       "      <th>41</th>\n",
       "      <td>Squirrel Hill South, Regent Square, Swisshelm ...</td>\n",
       "      <td>242.0</td>\n",
       "      <td>751.0</td>\n",
       "      <td>32.22</td>\n",
       "    </tr>\n",
       "    <tr>\n",
       "      <th>7</th>\n",
       "      <td>Brookline</td>\n",
       "      <td>119.0</td>\n",
       "      <td>1112.0</td>\n",
       "      <td>10.70</td>\n",
       "    </tr>\n",
       "    <tr>\n",
       "      <th>40</th>\n",
       "      <td>Squirrel Hill North</td>\n",
       "      <td>108.0</td>\n",
       "      <td>328.0</td>\n",
       "      <td>32.93</td>\n",
       "    </tr>\n",
       "    <tr>\n",
       "      <th>33</th>\n",
       "      <td>Point Breeze</td>\n",
       "      <td>97.0</td>\n",
       "      <td>306.0</td>\n",
       "      <td>31.70</td>\n",
       "    </tr>\n",
       "    <tr>\n",
       "      <th>18</th>\n",
       "      <td>Greenfield</td>\n",
       "      <td>85.0</td>\n",
       "      <td>471.0</td>\n",
       "      <td>18.05</td>\n",
       "    </tr>\n",
       "    <tr>\n",
       "      <th>21</th>\n",
       "      <td>Highland Park</td>\n",
       "      <td>83.0</td>\n",
       "      <td>382.0</td>\n",
       "      <td>21.73</td>\n",
       "    </tr>\n",
       "    <tr>\n",
       "      <th>8</th>\n",
       "      <td>Carrick</td>\n",
       "      <td>60.0</td>\n",
       "      <td>1212.0</td>\n",
       "      <td>4.95</td>\n",
       "    </tr>\n",
       "    <tr>\n",
       "      <th>3</th>\n",
       "      <td>Beechview</td>\n",
       "      <td>44.0</td>\n",
       "      <td>750.0</td>\n",
       "      <td>5.87</td>\n",
       "    </tr>\n",
       "    <tr>\n",
       "      <th>4</th>\n",
       "      <td>Bloomfield, Friendship</td>\n",
       "      <td>43.0</td>\n",
       "      <td>291.0</td>\n",
       "      <td>14.78</td>\n",
       "    </tr>\n",
       "    <tr>\n",
       "      <th>6</th>\n",
       "      <td>Brighton Heights</td>\n",
       "      <td>39.0</td>\n",
       "      <td>566.0</td>\n",
       "      <td>6.89</td>\n",
       "    </tr>\n",
       "  </tbody>\n",
       "</table>\n",
       "</div>"
      ],
      "text/plain": [
       "                                        neighborhoods  gifted  \\\n",
       "41  Squirrel Hill South, Regent Square, Swisshelm ...   242.0   \n",
       "7                                           Brookline   119.0   \n",
       "40                                Squirrel Hill North   108.0   \n",
       "33                                       Point Breeze    97.0   \n",
       "18                                         Greenfield    85.0   \n",
       "21                                      Highland Park    83.0   \n",
       "8                                             Carrick    60.0   \n",
       "3                                           Beechview    44.0   \n",
       "4                              Bloomfield, Friendship    43.0   \n",
       "6                                    Brighton Heights    39.0   \n",
       "\n",
       "    total_enrollment_k_12  Gifted Percentage  \n",
       "41                  751.0              32.22  \n",
       "7                  1112.0              10.70  \n",
       "40                  328.0              32.93  \n",
       "33                  306.0              31.70  \n",
       "18                  471.0              18.05  \n",
       "21                  382.0              21.73  \n",
       "8                  1212.0               4.95  \n",
       "3                   750.0               5.87  \n",
       "4                   291.0              14.78  \n",
       "6                   566.0               6.89  "
      ]
     },
     "execution_count": 26,
     "metadata": {},
     "output_type": "execute_result"
    }
   ],
   "source": [
    "# sorts the values from highest to lowest gifted students \n",
    "gifted = mask.sort_values(by = ['gifted'], ascending=False)\n",
    "\n",
    "#prints 10 neighborhoods with the most gifted students \n",
    "gifted.head(10)"
   ]
  },
  {
   "cell_type": "code",
   "execution_count": 27,
   "metadata": {},
   "outputs": [],
   "source": [
    "#make a table here that sorts the data: gifted/ enrolled \n",
    "\n",
    "#sets the gifted percentage column = theGifted / theEnrolled * 100\n",
    "mask.loc['Gifted Percentage'] = mask['gifted'] / mask['total_enrollment_k_12'] *100\n",
    "\n",
    "#rounds the gifted percentage to two points \n",
    "mask.loc['Gifted Percentage'] = mask['Gifted Percentage'].apply(lambda x: float(\"{:.2f}\".format(x)))\n",
    "\n",
    "#output: sorts the data via gifted percentage \n",
    "output = mask.sort_values(by = ['Gifted Percentage'], ascending = False)"
   ]
  },
  {
   "cell_type": "markdown",
   "metadata": {},
   "source": [
    "# Statistics"
   ]
  },
  {
   "cell_type": "code",
   "execution_count": 23,
   "metadata": {},
   "outputs": [
    {
     "name": "stdout",
     "output_type": "stream",
     "text": [
      "Data set contains a total of 45 neighborhoods located in the Pittsburgh Area \n",
      "\n",
      "The average enrollment across each neighborhood is:  481.95 \n",
      "\n",
      "The average number of gifted students in a Neighborhood is:  36.25 \n",
      "\n",
      "The avg number of gifted students per enrollment is:  8.83 \n",
      "\n"
     ]
    }
   ],
   "source": [
    "\n",
    "#print the number of neighborhoods being checked\n",
    "print(\"Data set contains a total of \" + str(len(mask)) + \" neighborhoods located in the Pittsburgh Area \\n\")\n",
    "\n",
    "#print the average enrollment of each neighborhood\n",
    "print(\"The average enrollment across each neighborhood is: \" , str(round(mask['total_enrollment_k_12'].mean(), 2)) , \"\\n\")\n",
    "\n",
    "#print the average gifted of each neighborhood \n",
    "print(\"The average number of gifted students in a Neighborhood is: \", str(round(mask['gifted'].mean(), 2)), \"\\n\")\n",
    "\n",
    "#print avg gifted / enrollment of each neighborhood\n",
    "print(\"The avg number of gifted students per enrollment is: \", str(round(mask['Gifted Percentage'].mean(),2)),\"\\n\")"
   ]
  },
  {
   "cell_type": "markdown",
   "metadata": {},
   "source": [
    "# The Neighborhoods with the Highest Gifted/ Enrolled Percentage"
   ]
  },
  {
   "cell_type": "code",
   "execution_count": 29,
   "metadata": {},
   "outputs": [
    {
     "data": {
      "text/html": [
       "<div>\n",
       "<style scoped>\n",
       "    .dataframe tbody tr th:only-of-type {\n",
       "        vertical-align: middle;\n",
       "    }\n",
       "\n",
       "    .dataframe tbody tr th {\n",
       "        vertical-align: top;\n",
       "    }\n",
       "\n",
       "    .dataframe thead th {\n",
       "        text-align: right;\n",
       "    }\n",
       "</style>\n",
       "<table border=\"1\" class=\"dataframe\">\n",
       "  <thead>\n",
       "    <tr style=\"text-align: right;\">\n",
       "      <th></th>\n",
       "      <th>neighborhoods</th>\n",
       "      <th>gifted</th>\n",
       "      <th>total_enrollment_k_12</th>\n",
       "      <th>Gifted Percentage</th>\n",
       "    </tr>\n",
       "  </thead>\n",
       "  <tbody>\n",
       "    <tr>\n",
       "      <th>40</th>\n",
       "      <td>Squirrel Hill North</td>\n",
       "      <td>108.0</td>\n",
       "      <td>328.0</td>\n",
       "      <td>32.93</td>\n",
       "    </tr>\n",
       "    <tr>\n",
       "      <th>41</th>\n",
       "      <td>Squirrel Hill South, Regent Square, Swisshelm ...</td>\n",
       "      <td>242.0</td>\n",
       "      <td>751.0</td>\n",
       "      <td>32.22</td>\n",
       "    </tr>\n",
       "    <tr>\n",
       "      <th>33</th>\n",
       "      <td>Point Breeze</td>\n",
       "      <td>97.0</td>\n",
       "      <td>306.0</td>\n",
       "      <td>31.70</td>\n",
       "    </tr>\n",
       "    <tr>\n",
       "      <th>21</th>\n",
       "      <td>Highland Park</td>\n",
       "      <td>83.0</td>\n",
       "      <td>382.0</td>\n",
       "      <td>21.73</td>\n",
       "    </tr>\n",
       "    <tr>\n",
       "      <th>18</th>\n",
       "      <td>Greenfield</td>\n",
       "      <td>85.0</td>\n",
       "      <td>471.0</td>\n",
       "      <td>18.05</td>\n",
       "    </tr>\n",
       "    <tr>\n",
       "      <th>4</th>\n",
       "      <td>Bloomfield, Friendship</td>\n",
       "      <td>43.0</td>\n",
       "      <td>291.0</td>\n",
       "      <td>14.78</td>\n",
       "    </tr>\n",
       "    <tr>\n",
       "      <th>34</th>\n",
       "      <td>Point Breeze North</td>\n",
       "      <td>19.0</td>\n",
       "      <td>129.0</td>\n",
       "      <td>14.73</td>\n",
       "    </tr>\n",
       "    <tr>\n",
       "      <th>37</th>\n",
       "      <td>South Side Flats</td>\n",
       "      <td>15.0</td>\n",
       "      <td>109.0</td>\n",
       "      <td>13.76</td>\n",
       "    </tr>\n",
       "    <tr>\n",
       "      <th>10</th>\n",
       "      <td>Central, Upper Lawrenceville</td>\n",
       "      <td>32.0</td>\n",
       "      <td>235.0</td>\n",
       "      <td>13.62</td>\n",
       "    </tr>\n",
       "    <tr>\n",
       "      <th>9</th>\n",
       "      <td>Central Northside</td>\n",
       "      <td>18.0</td>\n",
       "      <td>134.0</td>\n",
       "      <td>13.43</td>\n",
       "    </tr>\n",
       "  </tbody>\n",
       "</table>\n",
       "</div>"
      ],
      "text/plain": [
       "                                        neighborhoods  gifted  \\\n",
       "40                                Squirrel Hill North   108.0   \n",
       "41  Squirrel Hill South, Regent Square, Swisshelm ...   242.0   \n",
       "33                                       Point Breeze    97.0   \n",
       "21                                      Highland Park    83.0   \n",
       "18                                         Greenfield    85.0   \n",
       "4                              Bloomfield, Friendship    43.0   \n",
       "34                                 Point Breeze North    19.0   \n",
       "37                                   South Side Flats    15.0   \n",
       "10                       Central, Upper Lawrenceville    32.0   \n",
       "9                                   Central Northside    18.0   \n",
       "\n",
       "    total_enrollment_k_12  Gifted Percentage  \n",
       "40                  328.0              32.93  \n",
       "41                  751.0              32.22  \n",
       "33                  306.0              31.70  \n",
       "21                  382.0              21.73  \n",
       "18                  471.0              18.05  \n",
       "4                   291.0              14.78  \n",
       "34                  129.0              14.73  \n",
       "37                  109.0              13.76  \n",
       "10                  235.0              13.62  \n",
       "9                   134.0              13.43  "
      ]
     },
     "execution_count": 29,
     "metadata": {},
     "output_type": "execute_result"
    }
   ],
   "source": [
    "#print the top 10 neighborhoods \n",
    "output.head(10)"
   ]
  },
  {
   "cell_type": "markdown",
   "metadata": {},
   "source": [
    "# REFLECT ON THE CHOOSEN STATISTIC "
   ]
  },
  {
   "cell_type": "code",
   "execution_count": 76,
   "metadata": {},
   "outputs": [
    {
     "data": {
      "text/plain": [
       "<matplotlib.axes._subplots.AxesSubplot at 0x7efe73570940>"
      ]
     },
     "execution_count": 76,
     "metadata": {},
     "output_type": "execute_result"
    },
    {
     "data": {
      "image/png": "[encoded data removed]",
      "text/plain": [
       "<Figure size 432x288 with 1 Axes>"
      ]
     },
     "metadata": {
      "needs_background": "light"
     },
     "output_type": "display_data"
    }
   ],
   "source": [
    "#plot the dataframe on a scatter graph \n",
    "output.plot(kind='scatter', x='Gifted Percentage', y='total_enrollment_k_12',\n",
    "          title=\"Total Gifted And Enrolled\")"
   ]
  },
  {
   "cell_type": "markdown",
   "metadata": {},
   "source": [
    "The following graph represents the data of Gifted percentage by total K-12 enrollment. This means that those further to the right of the graph have the best Percentage of Gifted Students per Total Enrolled. By examining the grouping of the data points it can be seen that for the most part those with the highest students enrolled had the lowest gifted percentages. This can be demonstrated by the Hill District, Homewood North, and Carrick which all have over 1000 total k-12 enrollment, but all three have less than 10% of there students being considered \"Gifted\". The schools with the best gifted percentage have low to medium total k-12 enrollment. "
   ]
  },
  {
   "cell_type": "code",
   "execution_count": null,
   "metadata": {},
   "outputs": [],
   "source": []
  }
 ],
 "metadata": {
  "kernelspec": {
   "display_name": "Python 3",
   "language": "python",
   "name": "python3"
  },
  "language_info": {
   "codemirror_mode": {
    "name": "ipython",
    "version": 3
   },
   "file_extension": ".py",
   "mimetype": "text/x-python",
   "name": "python",
   "nbconvert_exporter": "python",
   "pygments_lexer": "ipython3",
   "version": "3.8.3"
  }
 },
 "nbformat": 4,
 "nbformat_minor": 4
}
